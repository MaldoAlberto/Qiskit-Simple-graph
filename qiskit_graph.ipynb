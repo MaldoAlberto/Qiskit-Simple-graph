{
  "nbformat": 4,
  "nbformat_minor": 0,
  "metadata": {
    "colab": {
      "name": "qiskit_grafo.ipynb",
      "provenance": [],
      "mount_file_id": "1HEPtVdVOSH06NOzcFIoBCbyTBMlISEyY",
      "authorship_tag": "ABX9TyPeJNctHPHIHh5k4BKv7DGD",
      "include_colab_link": true
    },
    "kernelspec": {
      "name": "python3",
      "display_name": "Python 3"
    }
  },
  "cells": [
    {
      "cell_type": "markdown",
      "metadata": {
        "id": "view-in-github",
        "colab_type": "text"
      },
      "source": [
        "<a href=\"https://colab.research.google.com/github/MaldoAlberto/Qiskit-Simple-graph/blob/master/qiskit_graph.ipynb\" target=\"_parent\"><img src=\"https://colab.research.google.com/assets/colab-badge.svg\" alt=\"Open In Colab\"/></a>"
      ]
    },
    {
      "cell_type": "markdown",
      "metadata": {
        "id": "h24h0mNj4TBW",
        "colab_type": "text"
      },
      "source": [
        "**Generation of a graph using a real quantum computer**\n",
        "\n",
        "Exist the design of a simple graph with three nodes, this representation is possible with a quantum circuit that is generate from a  binary tree.\n",
        "\n",
        "![alt text](https://drive.google.com/uc?id=1tVk07bPFeS235lSJwEixYPuitJzga6GS)\n",
        "\n"
      ]
    },
    {
      "cell_type": "code",
      "metadata": {
        "id": "DSCfEFmDgTgr",
        "colab_type": "code",
        "outputId": "13f0e892-d543-48b8-964f-63847d673f0d",
        "colab": {
          "base_uri": "https://localhost:8080/",
          "height": 871
        }
      },
      "source": [
        "!pip install qiskit"
      ],
      "execution_count": 0,
      "outputs": [
        {
          "output_type": "stream",
          "text": [
            "Requirement already satisfied: qiskit in /usr/local/lib/python3.6/dist-packages (0.16.2)\n",
            "Requirement already satisfied: qiskit-terra==0.12.0 in /usr/local/lib/python3.6/dist-packages (from qiskit) (0.12.0)\n",
            "Requirement already satisfied: qiskit-ignis==0.2.0 in /usr/local/lib/python3.6/dist-packages (from qiskit) (0.2.0)\n",
            "Requirement already satisfied: qiskit-aqua==0.6.5 in /usr/local/lib/python3.6/dist-packages (from qiskit) (0.6.5)\n",
            "Requirement already satisfied: qiskit-ibmq-provider==0.5.0 in /usr/local/lib/python3.6/dist-packages (from qiskit) (0.5.0)\n",
            "Requirement already satisfied: qiskit-aer==0.4.1 in /usr/local/lib/python3.6/dist-packages (from qiskit) (0.4.1)\n",
            "Requirement already satisfied: psutil>=5 in /usr/local/lib/python3.6/dist-packages (from qiskit-terra==0.12.0->qiskit) (5.4.8)\n",
            "Requirement already satisfied: dill>=0.3 in /usr/local/lib/python3.6/dist-packages (from qiskit-terra==0.12.0->qiskit) (0.3.1.1)\n",
            "Requirement already satisfied: scipy>=1.0 in /usr/local/lib/python3.6/dist-packages (from qiskit-terra==0.12.0->qiskit) (1.4.1)\n",
            "Requirement already satisfied: networkx>=2.2; python_version > \"3.5\" in /usr/local/lib/python3.6/dist-packages (from qiskit-terra==0.12.0->qiskit) (2.4)\n",
            "Requirement already satisfied: marshmallow-polyfield<6,>=5.7 in /usr/local/lib/python3.6/dist-packages (from qiskit-terra==0.12.0->qiskit) (5.9)\n",
            "Requirement already satisfied: marshmallow<4,>=3 in /usr/local/lib/python3.6/dist-packages (from qiskit-terra==0.12.0->qiskit) (3.5.1)\n",
            "Requirement already satisfied: sympy>=1.3 in /usr/local/lib/python3.6/dist-packages (from qiskit-terra==0.12.0->qiskit) (1.5.1)\n",
            "Requirement already satisfied: ply>=3.10 in /usr/local/lib/python3.6/dist-packages (from qiskit-terra==0.12.0->qiskit) (3.11)\n",
            "Requirement already satisfied: numpy>=1.13 in /usr/local/lib/python3.6/dist-packages (from qiskit-terra==0.12.0->qiskit) (1.18.2)\n",
            "Requirement already satisfied: jsonschema>=2.6 in /usr/local/lib/python3.6/dist-packages (from qiskit-terra==0.12.0->qiskit) (2.6.0)\n",
            "Requirement already satisfied: setuptools>=40.1.0 in /usr/local/lib/python3.6/dist-packages (from qiskit-ignis==0.2.0->qiskit) (46.0.0)\n",
            "Requirement already satisfied: scikit-learn>=0.20.0 in /usr/local/lib/python3.6/dist-packages (from qiskit-aqua==0.6.5->qiskit) (0.22.2.post1)\n",
            "Requirement already satisfied: quandl in /usr/local/lib/python3.6/dist-packages (from qiskit-aqua==0.6.5->qiskit) (3.5.0)\n",
            "Requirement already satisfied: dlx in /usr/local/lib/python3.6/dist-packages (from qiskit-aqua==0.6.5->qiskit) (1.0.4)\n",
            "Requirement already satisfied: fastdtw in /usr/local/lib/python3.6/dist-packages (from qiskit-aqua==0.6.5->qiskit) (0.3.4)\n",
            "Requirement already satisfied: h5py in /usr/local/lib/python3.6/dist-packages (from qiskit-aqua==0.6.5->qiskit) (2.8.0)\n",
            "Requirement already satisfied: docplex in /usr/local/lib/python3.6/dist-packages (from qiskit-aqua==0.6.5->qiskit) (2.13.184)\n",
            "Requirement already satisfied: pyscf; sys_platform == \"linux\" or (python_version < \"3.8\" and sys_platform != \"win32\") in /usr/local/lib/python3.6/dist-packages (from qiskit-aqua==0.6.5->qiskit) (1.7.1)\n",
            "Requirement already satisfied: arrow>=0.15.5 in /usr/local/lib/python3.6/dist-packages (from qiskit-ibmq-provider==0.5.0->qiskit) (0.15.5)\n",
            "Requirement already satisfied: websockets<8,>=7 in /usr/local/lib/python3.6/dist-packages (from qiskit-ibmq-provider==0.5.0->qiskit) (7.0)\n",
            "Requirement already satisfied: nest-asyncio!=1.1.0,>=1.0.0 in /usr/local/lib/python3.6/dist-packages (from qiskit-ibmq-provider==0.5.0->qiskit) (1.3.0)\n",
            "Requirement already satisfied: requests>=2.19 in /usr/local/lib/python3.6/dist-packages (from qiskit-ibmq-provider==0.5.0->qiskit) (2.21.0)\n",
            "Requirement already satisfied: requests-ntlm>=1.1.0 in /usr/local/lib/python3.6/dist-packages (from qiskit-ibmq-provider==0.5.0->qiskit) (1.1.0)\n",
            "Requirement already satisfied: cython>=0.27.1 in /usr/local/lib/python3.6/dist-packages (from qiskit-aer==0.4.1->qiskit) (0.29.15)\n",
            "Requirement already satisfied: pybind11>=2.4 in /usr/local/lib/python3.6/dist-packages (from qiskit-aer==0.4.1->qiskit) (2.4.3)\n",
            "Requirement already satisfied: decorator>=4.3.0 in /usr/local/lib/python3.6/dist-packages (from networkx>=2.2; python_version > \"3.5\"->qiskit-terra==0.12.0->qiskit) (4.4.2)\n",
            "Requirement already satisfied: mpmath>=0.19 in /usr/local/lib/python3.6/dist-packages (from sympy>=1.3->qiskit-terra==0.12.0->qiskit) (1.1.0)\n",
            "Requirement already satisfied: joblib>=0.11 in /usr/local/lib/python3.6/dist-packages (from scikit-learn>=0.20.0->qiskit-aqua==0.6.5->qiskit) (0.14.1)\n",
            "Requirement already satisfied: inflection>=0.3.1 in /usr/local/lib/python3.6/dist-packages (from quandl->qiskit-aqua==0.6.5->qiskit) (0.3.1)\n",
            "Requirement already satisfied: python-dateutil in /usr/local/lib/python3.6/dist-packages (from quandl->qiskit-aqua==0.6.5->qiskit) (2.8.1)\n",
            "Requirement already satisfied: pandas>=0.14 in /usr/local/lib/python3.6/dist-packages (from quandl->qiskit-aqua==0.6.5->qiskit) (0.25.3)\n",
            "Requirement already satisfied: six in /usr/local/lib/python3.6/dist-packages (from quandl->qiskit-aqua==0.6.5->qiskit) (1.12.0)\n",
            "Requirement already satisfied: more-itertools in /usr/local/lib/python3.6/dist-packages (from quandl->qiskit-aqua==0.6.5->qiskit) (8.2.0)\n",
            "Requirement already satisfied: idna<2.9,>=2.5 in /usr/local/lib/python3.6/dist-packages (from requests>=2.19->qiskit-ibmq-provider==0.5.0->qiskit) (2.8)\n",
            "Requirement already satisfied: certifi>=2017.4.17 in /usr/local/lib/python3.6/dist-packages (from requests>=2.19->qiskit-ibmq-provider==0.5.0->qiskit) (2019.11.28)\n",
            "Requirement already satisfied: chardet<3.1.0,>=3.0.2 in /usr/local/lib/python3.6/dist-packages (from requests>=2.19->qiskit-ibmq-provider==0.5.0->qiskit) (3.0.4)\n",
            "Requirement already satisfied: urllib3<1.25,>=1.21.1 in /usr/local/lib/python3.6/dist-packages (from requests>=2.19->qiskit-ibmq-provider==0.5.0->qiskit) (1.24.3)\n",
            "Requirement already satisfied: cryptography>=1.3 in /usr/local/lib/python3.6/dist-packages (from requests-ntlm>=1.1.0->qiskit-ibmq-provider==0.5.0->qiskit) (2.8)\n",
            "Requirement already satisfied: ntlm-auth>=1.0.2 in /usr/local/lib/python3.6/dist-packages (from requests-ntlm>=1.1.0->qiskit-ibmq-provider==0.5.0->qiskit) (1.4.0)\n",
            "Requirement already satisfied: pytz>=2017.2 in /usr/local/lib/python3.6/dist-packages (from pandas>=0.14->quandl->qiskit-aqua==0.6.5->qiskit) (2018.9)\n",
            "Requirement already satisfied: cffi!=1.11.3,>=1.8 in /usr/local/lib/python3.6/dist-packages (from cryptography>=1.3->requests-ntlm>=1.1.0->qiskit-ibmq-provider==0.5.0->qiskit) (1.14.0)\n",
            "Requirement already satisfied: pycparser in /usr/local/lib/python3.6/dist-packages (from cffi!=1.11.3,>=1.8->cryptography>=1.3->requests-ntlm>=1.1.0->qiskit-ibmq-provider==0.5.0->qiskit) (2.20)\n"
          ],
          "name": "stdout"
        }
      ]
    },
    {
      "cell_type": "code",
      "metadata": {
        "id": "AmiZ6AwugQxU",
        "colab_type": "code",
        "outputId": "98b27b89-df59-44ca-b792-58f2ede615b7",
        "colab": {
          "base_uri": "https://localhost:8080/",
          "height": 34
        }
      },
      "source": [
        "import qiskit\n",
        "qiskit.__version__\n"
      ],
      "execution_count": 0,
      "outputs": [
        {
          "output_type": "execute_result",
          "data": {
            "text/plain": [
              "'0.12.0'"
            ]
          },
          "metadata": {
            "tags": []
          },
          "execution_count": 118
        }
      ]
    },
    {
      "cell_type": "code",
      "metadata": {
        "id": "EJwvMjQgDJEv",
        "colab_type": "code",
        "colab": {}
      },
      "source": [
        "import numpy as np\n",
        "from qiskit import(\n",
        "  QuantumCircuit,\n",
        "  execute,\n",
        "  Aer)\n",
        "from qiskit.visualization import plot_histogram"
      ],
      "execution_count": 0,
      "outputs": []
    },
    {
      "cell_type": "code",
      "metadata": {
        "id": "g7tmFiCsEt4c",
        "colab_type": "code",
        "outputId": "42fa4ab9-c4f8-4b55-ab57-e567fed4da2f",
        "colab": {
          "base_uri": "https://localhost:8080/",
          "height": 139
        }
      },
      "source": [
        "import numpy as np\n",
        "imagen_entrada = np.zeros((7,7),np.uint8)\n",
        "imagen_entrada[2][2] = 1\n",
        "imagen_entrada[2][3] = 1\n",
        "imagen_entrada[3][2] = 1\n",
        "imagen_entrada[3][3] = 1\n",
        "imagen_entrada[2][4] = 1\n",
        "imagen_entrada[4][3] = 1\n",
        "imagen_entrada[4][2] = 1\n",
        "imagen_entrada[3][4] = 1\n",
        "imagen_entrada[4][4] = 1\n",
        "\n",
        "\n",
        "# para agregar columnas de ceros es iniciar uno a la iquierda y luego uno a la derecha,  y asíí hasta tener  n-1 del tamaño de la imagen de ancho\n",
        "print(imagen_entrada, len(imagen_entrada),len(imagen_entrada[0]))\n",
        "#salidas erosion y dilatacion\n",
        "erosion= []\n",
        "dilatacion = []\n"
      ],
      "execution_count": 0,
      "outputs": [
        {
          "output_type": "stream",
          "text": [
            "[[0 0 0 0 0 0 0]\n",
            " [0 0 0 0 0 0 0]\n",
            " [0 0 1 1 1 0 0]\n",
            " [0 0 1 1 1 0 0]\n",
            " [0 0 1 1 1 0 0]\n",
            " [0 0 0 0 0 0 0]\n",
            " [0 0 0 0 0 0 0]] 7 7\n"
          ],
          "name": "stdout"
        }
      ]
    },
    {
      "cell_type": "code",
      "metadata": {
        "id": "nHwHo22ODhdG",
        "colab_type": "code",
        "colab": {}
      },
      "source": [
        "def compuerta(circuit,a,b,c):\n",
        "  circuit.x(a)\n",
        "  circuit.toffoli(a,b,c)\n",
        "  circuit.cx(c, b)\n",
        "  circuit.x(a)\n",
        "  circuit.cx(a,c)\n",
        "\n"
      ],
      "execution_count": 0,
      "outputs": []
    },
    {
      "cell_type": "code",
      "metadata": {
        "id": "_ZTvcUzMO949",
        "colab_type": "code",
        "colab": {}
      },
      "source": [
        "def twoGate(circuit,entrada,i,j,a,b,c,d,e,f,g,x0,x1):\n",
        "  circuit.h(a)\n",
        "  circuit.cnot(a,d)\n",
        "  circuit.h(b)\n",
        "  circuit.h(e)\n",
        "  compuerta(circuit,a,b,c)\n",
        "  compuerta(circuit,d,e,f)\n",
        "  compuerta(circuit,b,e,g) \n"
      ],
      "execution_count": 0,
      "outputs": []
    },
    {
      "cell_type": "code",
      "metadata": {
        "id": "ucjWcMoUhcEr",
        "colab_type": "code",
        "outputId": "428c042c-14db-47a6-9f12-9f56e358f7a7",
        "colab": {
          "base_uri": "https://localhost:8080/",
          "height": 323
        }
      },
      "source": [
        "for i in range(len(imagen_entrada)):\n",
        "  for j in range(len(imagen_entrada[0])-3):\n",
        "    # Use Aer's qasm_simulator\n",
        "    simulator = Aer.get_backend('qasm_simulator')\n",
        "\n",
        "    # Create a Quantum Circuit acting on the q register\n",
        "    circuit = QuantumCircuit(6, 1)\n",
        "\n",
        "#    twoGate(circuit,imagen_entrada,i,j,0,1,2,3,4,5,6,2,2) \n",
        "    circuit.h(0)\n",
        "    circuit.h(1)\n",
        "    circuit.h(3)\n",
        "    circuit.x(0)\n",
        "    circuit.toffoli(0,1,2)\n",
        "    circuit.cx(2, 1)\n",
        "    circuit.x(0)\n",
        "    circuit.cx(0,2)\n",
        "    circuit.x(0)\n",
        "    circuit.toffoli(0,3,4)\n",
        "    circuit.cx(4, 3)\n",
        "    circuit.x(0)\n",
        "    circuit.cx(0,4)\n",
        "    \n",
        "    circuit.x(1)\n",
        "    circuit.toffoli(1,3,5)\n",
        "    circuit.cx(5, 3)\n",
        "    circuit.x(1)\n",
        "    circuit.cx(1,5)\n",
        "    circuit.measure([5], [0])\n",
        "\n",
        "    # Execute the circuit on the qasm simulator\n",
        "    job = execute(circuit, simulator, shots=100000)\n",
        "\n",
        "    # Grab results from the job\n",
        "    result = job.result()\n",
        "\n",
        "    # Returns counts\n",
        "    counts = result.get_counts(circuit)\n",
        "    b = str(counts)[2:3]\n",
        "    #print( b, counts)\n",
        "    #b = a[3:8]\n",
        "    #print(\"\\nCount results:\",(counts),b)\n",
        "    erosion.append(b)\n",
        "\n",
        "\n",
        "    #print(erosion)\n",
        "# Draw the circuit\n",
        "circuit.draw()\n",
        "\n",
        "# Plot a histogram\n",
        "plot_histogram(counts)\n"
      ],
      "execution_count": 0,
      "outputs": [
        {
          "output_type": "execute_result",
          "data": {
            "image/png": "[encoded data removed]",
            "text/plain": [
              "<Figure size 504x360 with 1 Axes>"
            ]
          },
          "metadata": {
            "tags": []
          },
          "execution_count": 187
        }
      ]
    },
    {
      "cell_type": "code",
      "metadata": {
        "id": "YpYSTE5aN41L",
        "colab_type": "code",
        "outputId": "83138b6e-44dc-4047-925b-a13042861fbb",
        "colab": {
          "base_uri": "https://localhost:8080/",
          "height": 367
        }
      },
      "source": [
        "%matplotlib inline\n",
        "circuit.draw(output = \"mpl\")"
      ],
      "execution_count": 0,
      "outputs": [
        {
          "output_type": "execute_result",
          "data": {
            "image/png": "[encoded data removed]",
            "text/plain": [
              "<Figure size 960.792x445.48 with 1 Axes>"
            ]
          },
          "metadata": {
            "tags": []
          },
          "execution_count": 188
        }
      ]
    },
    {
      "cell_type": "code",
      "metadata": {
        "id": "Q21nJwCJhygi",
        "colab_type": "code",
        "outputId": "00cf0087-f7cf-48e8-ab4e-dbc8232e22b9",
        "colab": {
          "base_uri": "https://localhost:8080/",
          "height": 236
        }
      },
      "source": [
        "y = erosion\n",
        "y = np.array(y).reshape(4,7)\n",
        "#y = np.delete(y, [6], axis=1)\n",
        "print(\"erosion\")\n",
        "print()\n",
        "print(y)\n"
      ],
      "execution_count": 0,
      "outputs": [
        {
          "output_type": "error",
          "ename": "ValueError",
          "evalue": "ignored",
          "traceback": [
            "\u001b[0;31m---------------------------------------------------------------------------\u001b[0m",
            "\u001b[0;31mValueError\u001b[0m                                Traceback (most recent call last)",
            "\u001b[0;32m<ipython-input-189-ed531c1d45a7>\u001b[0m in \u001b[0;36m<module>\u001b[0;34m()\u001b[0m\n\u001b[1;32m      1\u001b[0m \u001b[0my\u001b[0m \u001b[0;34m=\u001b[0m \u001b[0merosion\u001b[0m\u001b[0;34m\u001b[0m\u001b[0;34m\u001b[0m\u001b[0m\n\u001b[0;32m----> 2\u001b[0;31m \u001b[0my\u001b[0m \u001b[0;34m=\u001b[0m \u001b[0mnp\u001b[0m\u001b[0;34m.\u001b[0m\u001b[0marray\u001b[0m\u001b[0;34m(\u001b[0m\u001b[0my\u001b[0m\u001b[0;34m)\u001b[0m\u001b[0;34m.\u001b[0m\u001b[0mreshape\u001b[0m\u001b[0;34m(\u001b[0m\u001b[0;36m4\u001b[0m\u001b[0;34m,\u001b[0m\u001b[0;36m7\u001b[0m\u001b[0;34m)\u001b[0m\u001b[0;34m\u001b[0m\u001b[0;34m\u001b[0m\u001b[0m\n\u001b[0m\u001b[1;32m      3\u001b[0m \u001b[0;31m#y = np.delete(y, [6], axis=1)\u001b[0m\u001b[0;34m\u001b[0m\u001b[0;34m\u001b[0m\u001b[0;34m\u001b[0m\u001b[0m\n\u001b[1;32m      4\u001b[0m \u001b[0mprint\u001b[0m\u001b[0;34m(\u001b[0m\u001b[0;34m\"erosion\"\u001b[0m\u001b[0;34m)\u001b[0m\u001b[0;34m\u001b[0m\u001b[0;34m\u001b[0m\u001b[0m\n\u001b[1;32m      5\u001b[0m \u001b[0mprint\u001b[0m\u001b[0;34m(\u001b[0m\u001b[0;34m)\u001b[0m\u001b[0;34m\u001b[0m\u001b[0;34m\u001b[0m\u001b[0m\n",
            "\u001b[0;31mValueError\u001b[0m: cannot reshape array of size 309 into shape (4,7)"
          ]
        }
      ]
    },
    {
      "cell_type": "code",
      "metadata": {
        "id": "2D1aw5Ut1j99",
        "colab_type": "code",
        "colab": {}
      },
      "source": [
        "from qiskit import IBMQ\n",
        "IBMQ.save_account('805ce7f981e887d0ca1fba51e00a024373a35e367621fdb15c47dab7ee3fa7dde270fe7aa0b6cc274d82c44673d69aa7cc34258c186982337973db729e7e77ae')"
      ],
      "execution_count": 0,
      "outputs": []
    },
    {
      "cell_type": "code",
      "metadata": {
        "id": "ZhqGMzCK1nzb",
        "colab_type": "code",
        "outputId": "8cf607f4-cb60-41b8-f973-77a40fbc5a49",
        "colab": {
          "base_uri": "https://localhost:8080/",
          "height": 52
        }
      },
      "source": [
        "IBMQ.load_account()"
      ],
      "execution_count": 0,
      "outputs": [
        {
          "output_type": "stream",
          "text": [
            "Credentials are already in use. The existing account in the session will be replaced.\n"
          ],
          "name": "stderr"
        },
        {
          "output_type": "execute_result",
          "data": {
            "text/plain": [
              "<AccountProvider for IBMQ(hub='ibm-q', group='open', project='main')>"
            ]
          },
          "metadata": {
            "tags": []
          },
          "execution_count": 191
        }
      ]
    },
    {
      "cell_type": "code",
      "metadata": {
        "id": "S2pUF1I81rCP",
        "colab_type": "code",
        "colab": {}
      },
      "source": [
        "import operator"
      ],
      "execution_count": 0,
      "outputs": []
    },
    {
      "cell_type": "code",
      "metadata": {
        "id": "1YoVFxhO1tLZ",
        "colab_type": "code",
        "outputId": "745da294-f335-4da8-a334-7412743df28c",
        "colab": {
          "base_uri": "https://localhost:8080/",
          "height": 340
        }
      },
      "source": [
        "for i in range(1):\n",
        "  for j in range(1):\n",
        "    # Use Aer's qasm_simulator\n",
        "    simulator = Aer.get_backend('qasm_simulator')\n",
        "\n",
        "    # Create a Quantum Circuit acting on the q register\n",
        "    circuit = QuantumCircuit(6, 1)\n",
        "    circuit.h(0)\n",
        "    circuit.h(1)\n",
        "    circuit.h(3)\n",
        "    circuit.x(0)\n",
        "    circuit.toffoli(0,1,2)\n",
        "    circuit.cx(2, 1)\n",
        "    circuit.x(0)\n",
        "    circuit.cx(0,2)\n",
        "    circuit.x(0)\n",
        "    circuit.toffoli(0,3,4)\n",
        "    circuit.cx(4, 3)\n",
        "    circuit.x(0)\n",
        "    circuit.cx(0,4)\n",
        "    \n",
        "    circuit.x(1)\n",
        "    circuit.toffoli(1,3,5)\n",
        "    circuit.cx(5, 3)\n",
        "    circuit.x(1)\n",
        "    circuit.cx(1,5)\n",
        "    circuit.measure([5], [0])\n",
        "\n",
        "\n",
        "    provider = IBMQ.get_provider('ibm-q')\n",
        "    qcomp = provider.get_backend('ibmq_16_melbourne')\n",
        "    job = execute(circuit,backend=qcomp,shots=8192)\n",
        "\n",
        "    from qiskit.tools.monitor import job_monitor\n",
        "    job_monitor(job)\n",
        "    result = job.result()\n",
        "\n",
        "    # Returns counts\n",
        "    counts = result.get_counts(circuit)\n",
        "    b =  max(counts.items(), key=operator.itemgetter(1))[0]\n",
        "    erosion.append(b)\n",
        "\n",
        "\n",
        "    #print(erosion)\n",
        "# Draw the circuit\n",
        "circuit.draw()\n",
        "\n",
        "# Plot a histogram\n",
        "plot_histogram(counts)\n"
      ],
      "execution_count": 0,
      "outputs": [
        {
          "output_type": "stream",
          "text": [
            "Job Status: job has successfully run\n"
          ],
          "name": "stdout"
        },
        {
          "output_type": "execute_result",
          "data": {
            "image/png": "[encoded data removed]",
            "text/plain": [
              "<Figure size 504x360 with 1 Axes>"
            ]
          },
          "metadata": {
            "tags": []
          },
          "execution_count": 193
        }
      ]
    },
    {
      "cell_type": "code",
      "metadata": {
        "id": "uu5_YhHtbJD3",
        "colab_type": "code",
        "colab": {}
      },
      "source": [
        "from qiskit.ignis.mitigation.measurement import (complete_meas_cal, CompleteMeasFitter)"
      ],
      "execution_count": 0,
      "outputs": []
    },
    {
      "cell_type": "code",
      "metadata": {
        "id": "p6EEz8oSbJD9",
        "colab_type": "code",
        "colab": {}
      },
      "source": [
        "cal_circuits, state_labels = complete_meas_cal(qr=circuit.qregs[0], \n",
        "                                               circlabel='measurement_calibration')"
      ],
      "execution_count": 0,
      "outputs": []
    },
    {
      "cell_type": "code",
      "metadata": {
        "id": "fSMzkotKbJEC",
        "colab_type": "code",
        "outputId": "b16db07d-f18a-4542-ae94-fe41af3e9531",
        "colab": {
          "base_uri": "https://localhost:8080/",
          "height": 367
        }
      },
      "source": [
        "cal_circuits[63].draw(output='mpl')"
      ],
      "execution_count": 0,
      "outputs": [
        {
          "output_type": "execute_result",
          "data": {
            "image/png": "[encoded data removed]",
            "text/plain": [
              "<Figure size 659.792x445.48 with 1 Axes>"
            ]
          },
          "metadata": {
            "tags": []
          },
          "execution_count": 198
        }
      ]
    },
    {
      "cell_type": "code",
      "metadata": {
        "id": "nCiR2r46bJEI",
        "colab_type": "code",
        "outputId": "bdccc27d-f80f-42bd-95ba-33c82e82fdc1",
        "colab": {
          "base_uri": "https://localhost:8080/",
          "height": 34
        }
      },
      "source": [
        "len(cal_circuits)"
      ],
      "execution_count": 0,
      "outputs": [
        {
          "output_type": "execute_result",
          "data": {
            "text/plain": [
              "64"
            ]
          },
          "metadata": {
            "tags": []
          },
          "execution_count": 199
        }
      ]
    },
    {
      "cell_type": "code",
      "metadata": {
        "id": "Nwl19PcrbJEO",
        "colab_type": "code",
        "outputId": "caea73f1-3a8d-4bfd-d6fd-504e7308c0f1",
        "colab": {
          "base_uri": "https://localhost:8080/",
          "height": 34
        }
      },
      "source": [
        "cal_job = execute(cal_circuits,\n",
        "             backend=qcomp,\n",
        "             shots=1024,\n",
        "             optimization_level=0)\n",
        "#print(cal_job.job_id())\n",
        "job_monitor(cal_job)\n"
      ],
      "execution_count": 0,
      "outputs": [
        {
          "output_type": "stream",
          "text": [
            "Job Status: job has successfully run\n"
          ],
          "name": "stdout"
        }
      ]
    },
    {
      "cell_type": "code",
      "metadata": {
        "id": "VyS8fof3bJEU",
        "colab_type": "code",
        "outputId": "f1f3f110-8a2a-40e5-cb60-85f9d9bd5945",
        "colab": {
          "base_uri": "https://localhost:8080/",
          "height": 365
        }
      },
      "source": [
        "cal_results = cal_job.result()\n",
        "plot_histogram(cal_results.get_counts(cal_circuits[63]))"
      ],
      "execution_count": 0,
      "outputs": [
        {
          "output_type": "execute_result",
          "data": {
            "image/png": "[encoded data removed]",
            "text/plain": [
              "<Figure size 504x360 with 1 Axes>"
            ]
          },
          "metadata": {
            "tags": []
          },
          "execution_count": 201
        }
      ]
    },
    {
      "cell_type": "markdown",
      "metadata": {
        "id": "41tFbtfcbJEa",
        "colab_type": "text"
      },
      "source": [
        "### Creating the Measurement Fitter Object in Ignis "
      ]
    },
    {
      "cell_type": "code",
      "metadata": {
        "id": "iZ3hjopbbJEb",
        "colab_type": "code",
        "colab": {}
      },
      "source": [
        "meas_fitter = CompleteMeasFitter(cal_results, state_labels)"
      ],
      "execution_count": 0,
      "outputs": []
    },
    {
      "cell_type": "code",
      "metadata": {
        "id": "lVAZqAdjbJEg",
        "colab_type": "code",
        "outputId": "738fd344-5e53-4cd6-a65e-ac0e9b4d5480",
        "colab": {
          "base_uri": "https://localhost:8080/",
          "height": 283
        }
      },
      "source": [
        "meas_fitter.plot_calibration()"
      ],
      "execution_count": 0,
      "outputs": [
        {
          "output_type": "display_data",
          "data": {
            "image/png": "[encoded data removed]",
            "text/plain": [
              "<Figure size 432x288 with 2 Axes>"
            ]
          },
          "metadata": {
            "tags": []
          }
        }
      ]
    },
    {
      "cell_type": "code",
      "metadata": {
        "id": "36RHPJZYbJEm",
        "colab_type": "code",
        "colab": {}
      },
      "source": [
        "meas_filter = meas_fitter.filter"
      ],
      "execution_count": 0,
      "outputs": []
    },
    {
      "cell_type": "code",
      "metadata": {
        "id": "lq3R9WI0-10I",
        "colab_type": "code",
        "colab": {}
      },
      "source": [
        "mitigated_result = meas_filter.apply(result)"
      ],
      "execution_count": 0,
      "outputs": []
    },
    {
      "cell_type": "code",
      "metadata": {
        "id": "miAXp1_JbJEz",
        "colab_type": "code",
        "outputId": "472aa4cf-5bef-43b1-a122-b825488f7d99",
        "colab": {
          "base_uri": "https://localhost:8080/",
          "height": 358
        }
      },
      "source": [
        "device_counts = result.get_counts(circuit)\n",
        "mitigated_counts = mitigated_result.get_counts(circuit)\n",
        "plot_histogram([device_counts, mitigated_counts], \n",
        "               legend=['device, noisy', 'device, mitigated'])"
      ],
      "execution_count": 0,
      "outputs": [
        {
          "output_type": "stream",
          "text": [
            "/usr/local/lib/python3.6/dist-packages/qiskit/visualization/counts_visualization.py:241: RuntimeWarning: invalid value encountered in true_divide\n",
            "  pvalues = values[where_idx] / sum(values[where_idx])\n"
          ],
          "name": "stderr"
        },
        {
          "output_type": "execute_result",
          "data": {
            "image/png": "[encoded data removed]",
            "text/plain": [
              "<Figure size 504x360 with 1 Axes>"
            ]
          },
          "metadata": {
            "tags": []
          },
          "execution_count": 206
        }
      ]
    },
    {
      "cell_type": "code",
      "metadata": {
        "id": "vkwhonvhBRk8",
        "colab_type": "code",
        "outputId": "fe16f447-fff1-46d5-bf7c-b0cb3798bf28",
        "colab": {
          "base_uri": "https://localhost:8080/",
          "height": 34
        }
      },
      "source": [
        "mitigated_counts"
      ],
      "execution_count": 0,
      "outputs": [
        {
          "output_type": "execute_result",
          "data": {
            "text/plain": [
              "{}"
            ]
          },
          "metadata": {
            "tags": []
          },
          "execution_count": 207
        }
      ]
    }
  ]
}